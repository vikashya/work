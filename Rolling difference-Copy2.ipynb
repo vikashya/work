{
 "cells": [
  {
   "cell_type": "code",
   "execution_count": 655,
   "metadata": {},
   "outputs": [],
   "source": [
    "import pandas as pd\n",
    "from datetime import datetime  \n",
    "from datetime import timedelta \n",
    "import numpy as np"
   ]
  },
  {
   "cell_type": "code",
   "execution_count": 656,
   "metadata": {},
   "outputs": [],
   "source": [
    "df = pd.read_csv('group_stage.csv',parse_dates=True)"
   ]
  },
  {
   "cell_type": "code",
   "execution_count": 657,
   "metadata": {},
   "outputs": [],
   "source": [
    "df['date']=pd.to_datetime(df.date)\n",
    "df=df.sort_values(by=['group','date']).reset_index() "
   ]
  },
  {
   "cell_type": "code",
   "execution_count": 660,
   "metadata": {},
   "outputs": [],
   "source": [
    "df['date']=pd.to_datetime(df['date'])"
   ]
  },
  {
   "cell_type": "code",
   "execution_count": 668,
   "metadata": {},
   "outputs": [],
   "source": [
    "df['stage_one'] = df.groupby('group').ffill()"
   ]
  },
  {
   "cell_type": "code",
   "execution_count": 699,
   "metadata": {},
   "outputs": [
    {
     "name": "stdout",
     "output_type": "stream",
     "text": [
      "   group       date  stage  Stage_c_one  Stage_c_two  stage_2\n",
      "0      A 2014-01-01    one            1            0      NaN\n",
      "1      A 2014-01-03    one            3            0      NaN\n",
      "2      A 2014-01-04    one            4            0      NaN\n",
      "3      A 2014-01-05    two            4            1      0.0\n",
      "4      B 2014-01-02   four            0            0      NaN\n",
      "5      B 2014-01-06   five            0            0      NaN\n",
      "6      B 2014-01-10   five            0            0      NaN\n",
      "7      C 2014-01-03    two            0            1      0.0\n",
      "8      C 2014-01-05    two            0            3      2.0\n",
      "9      C 2014-01-08  three            0            1      NaN\n",
      "10     C 2014-01-09  three            0            0      NaN\n",
      "11     C 2014-01-10  three            0            0      NaN\n",
      "12     C 2014-01-11  three            0            0      NaN\n",
      "13     D 2014-01-01    one            1            0      NaN\n",
      "14     D 2014-01-03    one            3            0      NaN\n",
      "15     D 2014-01-04   four            3            0      NaN\n",
      "16     E 2014-01-04    two            0            1      0.0\n",
      "17     E 2014-01-06    two            0            3      2.0\n",
      "18     E 2014-01-07    two            0            4      3.0\n",
      "19     E 2014-01-08   four            0            4      NaN\n",
      "20     E 2014-01-09   five            0            4      NaN\n",
      "21     E 2014-01-10   five            0            0      NaN\n",
      "22     F 2014-01-08  three            0            0      NaN\n"
     ]
    }
   ],
   "source": [
    "df['stage_2'] = df.groupby(['group','stage']).date.apply(lambda x: x - x.iloc[0])\n",
    "df['stage_2'] /= np.timedelta64(1,'D')\n",
    "df['stage_2'] = df['stage_2'].where(df['stage']=='two')\n",
    "print(df.loc[:,['group','date','stage','Stage_c_one','Stage_c_two','stage_2']])"
   ]
  },
  {
   "cell_type": "code",
   "execution_count": 700,
   "metadata": {},
   "outputs": [
    {
     "name": "stdout",
     "output_type": "stream",
     "text": [
      "   group       date  stage_2\n",
      "0      A 2014-01-01      NaN\n",
      "1      A 2014-01-03      NaN\n",
      "2      A 2014-01-04      NaN\n",
      "3      A 2014-01-05      0.0\n",
      "4      B 2014-01-02      NaN\n",
      "5      B 2014-01-06      NaN\n",
      "6      B 2014-01-10      NaN\n",
      "7      C 2014-01-03      0.0\n",
      "8      C 2014-01-05      2.0\n",
      "9      C 2014-01-08      NaN\n",
      "10     C 2014-01-09      NaN\n",
      "11     C 2014-01-10      NaN\n",
      "12     C 2014-01-11      NaN\n",
      "13     D 2014-01-01      NaN\n",
      "14     D 2014-01-03      NaN\n",
      "15     D 2014-01-04      NaN\n",
      "16     E 2014-01-04      0.0\n",
      "17     E 2014-01-06      2.0\n",
      "18     E 2014-01-07      3.0\n",
      "19     E 2014-01-08      NaN\n",
      "20     E 2014-01-09      NaN\n",
      "21     E 2014-01-10      NaN\n",
      "22     F 2014-01-08      NaN\n"
     ]
    }
   ],
   "source": [
    "print(df.groupby('group')['group','date','stage_2'].head(17))"
   ]
  },
  {
   "cell_type": "code",
   "execution_count": 701,
   "metadata": {},
   "outputs": [
    {
     "name": "stdout",
     "output_type": "stream",
     "text": [
      "   group       date  stage_2\n",
      "0      A 2014-01-01      NaN\n",
      "1      A 2014-01-03      NaN\n",
      "2      A 2014-01-04      NaN\n",
      "3      A 2014-01-05      0.0\n",
      "4      B 2014-01-02      NaN\n",
      "5      B 2014-01-06      NaN\n",
      "6      B 2014-01-10      NaN\n",
      "7      C 2014-01-03      0.0\n",
      "8      C 2014-01-05      2.0\n",
      "9      C 2014-01-08      0.0\n",
      "10     C 2014-01-09      NaN\n",
      "11     C 2014-01-10      NaN\n",
      "12     C 2014-01-11      NaN\n",
      "13     D 2014-01-01      NaN\n",
      "14     D 2014-01-03      NaN\n",
      "15     D 2014-01-04      NaN\n",
      "16     E 2014-01-04      0.0\n",
      "17     E 2014-01-06      2.0\n",
      "18     E 2014-01-07      3.0\n",
      "19     E 2014-01-08      3.0\n",
      "20     E 2014-01-09      3.0\n",
      "21     E 2014-01-10      NaN\n",
      "22     F 2014-01-08      NaN\n"
     ]
    }
   ],
   "source": [
    "df['date']=pd.to_datetime(df.date)\n",
    "df['stage_2'] = df.groupby('group',sort=True)['stage_2'].ffill()\n",
    "print(df.groupby('group')['group','date','stage_2'].head(17))"
   ]
  },
  {
   "cell_type": "code",
   "execution_count": null,
   "metadata": {},
   "outputs": [],
   "source": []
  }
 ],
 "metadata": {
  "kernelspec": {
   "display_name": "Python 3",
   "language": "python",
   "name": "python3"
  },
  "language_info": {
   "codemirror_mode": {
    "name": "ipython",
    "version": 3
   },
   "file_extension": ".py",
   "mimetype": "text/x-python",
   "name": "python",
   "nbconvert_exporter": "python",
   "pygments_lexer": "ipython3",
   "version": "3.6.5"
  }
 },
 "nbformat": 4,
 "nbformat_minor": 2
}
